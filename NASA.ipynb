{
 "cells": [
  {
   "cell_type": "markdown",
   "metadata": {},
   "source": [
    "NASA getting data\n",
    "-Using an API for accessing data for the NASA Project\n",
    "-I am looking into how to write the code"
   ]
  },
  {
   "cell_type": "code",
   "execution_count": 30,
   "metadata": {},
   "outputs": [],
   "source": [
    "api_key = \"JGODJIhUmNHzKNJbLeohgF9AMER1rrcSb09ol00v\"\n",
    "url = f\"https://api.nasa.gov/planetary/apod?api_key={api_key}\"\n"
   ]
  },
  {
   "cell_type": "code",
   "execution_count": 34,
   "metadata": {},
   "outputs": [
    {
     "name": "stdout",
     "output_type": "stream",
     "text": [
      "200\n",
      "{'copyright': '\\nKent E. Biggs\\n', 'date': '2024-02-07', 'explanation': 'Are these two galaxies really attracted to each other? Yes, gravitationally, and the result appears as an enormous iconic heart -- at least for now. Pictured is the pair of galaxies cataloged as NGC 4038 and NGC 4039,known as the Antennae Galaxies.  Because they are only 60 million light years away, close by intergalactic standards, the pair is one of the best studied interacting galaxies on the night sky. Their strong attraction began about a billion years ago when they passed unusually close to each other.  As the two galaxies interact, their stars rarely collide, but new stars are formed when their interstellar gases crash together.  Some new stars have already formed, for example, in the long antennae seen extending out from the sides of the dancing duo. By the time the galaxy merger is complete, likely over a billion years from now, billions of new stars may have formed.   Open Science: Browse 3,300+ codes in the Astrophysics Source Code Library', 'hdurl': 'https://apod.nasa.gov/apod/image/2402/Antennae_Biggs_3840.jpg', 'media_type': 'image', 'service_version': 'v1', 'title': 'The Heart Shaped Antennae Galaxies', 'url': 'https://apod.nasa.gov/apod/image/2402/Antennae_Biggs_960.jpg'}\n"
     ]
    }
   ],
   "source": [
    "import requests\n",
    "\n",
    "api_key = \"JGODJIhUmNHzKNJbLeohgF9AMER1rrcSb09ol00v\"  # Make sure this is replaced with your actual API key\n",
    "url = f\"https://api.nasa.gov/planetary/apod?api_key={api_key}\"\n",
    "\n",
    "response = requests.get(url)\n",
    "data = response.json()\n",
    "\n",
    "print(response.status_code)  # Check if the request was successful\n",
    "if response.status_code == 200:\n",
    "    print(data)\n",
    "else:\n",
    "    print(\"Failed to fetch data\")\n"
   ]
  },
  {
   "cell_type": "markdown",
   "metadata": {},
   "source": [
    "questions = [\n",
    "  {\n",
    "    \"question\": \"What type of galaxies are the Antennae Galaxies?\",\n",
    "    \"options\": [\"Spiral\", \"Elliptical\", \"Interacting\", \"Irregular\"],\n",
    "    \"correct_answer\": \"Interacting\"\n",
    "  },\n",
    "  {\n",
    "    \"question\": \"How far away are the Antennae Galaxies?\",\n",
    "    \"options\": [\"60 million light-years\", \"600 million light-years\", \"6 billion light-years\", \"60 billion light-years\"],\n",
    "    \"correct_answer\": \"60 million light-years\"\n",
    "  }\n",
    "  // Add more questions based on the API data and astronomy concepts\n",
    "]\n"
   ]
  },
  {
   "cell_type": "markdown",
   "metadata": {},
   "source": [
    "for each question in questions:\n",
    "  display question and options\n",
    "  get user's answer\n",
    "  if user's answer is correct:\n",
    "    increment score\n",
    "    display positive feedback\n",
    "  else:\n",
    "    display correct answer and educational feedback\n",
    "display final score\n"
   ]
  }
 ],
 "metadata": {
  "kernelspec": {
   "display_name": "Python 3",
   "language": "python",
   "name": "python3"
  },
  "language_info": {
   "codemirror_mode": {
    "name": "ipython",
    "version": 3
   },
   "file_extension": ".py",
   "mimetype": "text/x-python",
   "name": "python",
   "nbconvert_exporter": "python",
   "pygments_lexer": "ipython3",
   "version": "3.10.2"
  },
  "orig_nbformat": 4
 },
 "nbformat": 4,
 "nbformat_minor": 2
}
