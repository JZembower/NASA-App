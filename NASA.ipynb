# %% [markdown]
# NASA getting data
# -Using an API for accessing data for the NASA Project
# -I am looking into how to write the code

# %%
api_key = "JGODJIhUmNHzKNJbLeohgF9AMER1rrcSb09ol00v"
url = f"https://api.nasa.gov/planetary/apod?api_key={api_key}"


# %%
import requests

api_key = "JGODJIhUmNHzKNJbLeohgF9AMER1rrcSb09ol00v"  # Make sure this is replaced with your actual API key
url = f"https://api.nasa.gov/planetary/apod?api_key={api_key}"

response = requests.get(url)
data = response.json()

print(response.status_code)  # Check if the request was successful
if response.status_code == 200:
    print(data)
else:
    print("Failed to fetch data")


# %% [markdown]
# questions = [
#   {
#     "question": "What type of galaxies are the Antennae Galaxies?",
#     "options": ["Spiral", "Elliptical", "Interacting", "Irregular"],
#     "correct_answer": "Interacting"
#   },
#   {
#     "question": "How far away are the Antennae Galaxies?",
#     "options": ["60 million light-years", "600 million light-years", "6 billion light-years", "60 billion light-years"],
#     "correct_answer": "60 million light-years"
#   }
#   // Add more questions based on the API data and astronomy concepts
# ]
# 

# %% [markdown]
# for each question in questions:
#   display question and options
#   get user's answer
#   if user's answer is correct:
#     increment score
#     display positive feedback
#   else:
#     display correct answer and educational feedback
# display final score
# 



